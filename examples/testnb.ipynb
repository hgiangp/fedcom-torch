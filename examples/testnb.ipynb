{
 "cells": [
  {
   "cell_type": "code",
   "execution_count": 4,
   "metadata": {},
   "outputs": [
    {
     "name": "stdout",
     "output_type": "stream",
     "text": [
      "{'weight': tensor([[-0.0754, -0.0753],\n",
      "        [-0.6765,  0.5025],\n",
      "        [-0.2202,  0.6343]]), 'bias': tensor([-0.2950, -0.1803, -0.6243])}\n",
      "9\n"
     ]
    }
   ],
   "source": [
    "import torch.nn as nn \n",
    "\n",
    "model = nn.Linear(2, 3)\n",
    "params = {k: v.data for k, v in zip(model.state_dict(), model.parameters())}\n",
    "\n",
    "print(params)\n",
    "# Calculate the number of parameters \n",
    "num_params = sum(param.numel() for param in model.parameters())\n",
    "print(num_params) # 9 "
   ]
  },
  {
   "cell_type": "code",
   "execution_count": 5,
   "metadata": {},
   "outputs": [
    {
     "name": "stdout",
     "output_type": "stream",
     "text": [
      "[-0.01657281 -0.01304539 -0.41262166 -0.12366266  0.03107857 -0.12102356\n",
      " -0.0534808  -0.03138488 -0.1824799 ]\n"
     ]
    }
   ],
   "source": [
    "import numpy as np \n",
    "\n",
    "model1 = nn.Linear(2, 3)\n",
    "model2 = nn.Linear(2, 3)\n",
    "model3 = nn.Linear(2, 3)\n",
    "\n",
    "# Copy model.parameters() to flatten np.array \n",
    "def preprocess(model): \n",
    "    params = np.array([])\n",
    "    for v in model.parameters(): \n",
    "        params = np.append(params, v.data.numpy())\n",
    "    return params \n",
    "\n",
    "params1 = preprocess(model1)\n",
    "params2 = preprocess(model2)\n",
    "params3 = preprocess(model3)\n",
    "\n",
    "# Avarage (aggregate) the model parameters \n",
    "params = np.mean(np.array([params1, params2, params3]), axis=0)\n",
    "print(params)\n",
    "\n",
    "# Convert the data back to dictionary of parameters \n",
    "params_dict = {}\n",
    "\n",
    "# load_state_dict ()\n",
    "# https://pytorch.org/tutorials/beginner/saving_loading_models.html\n"
   ]
  },
  {
   "cell_type": "code",
   "execution_count": 6,
   "metadata": {},
   "outputs": [
    {
     "name": "stdout",
     "output_type": "stream",
     "text": [
      "{'a': 1, 'b': 2, 'c': 3}\n"
     ]
    }
   ],
   "source": [
    "c = {'a': 1, 'b': 2, 'c': 3}\n",
    "d = {}\n",
    "\n",
    "for k in c.keys(): \n",
    "    d[k] = c[k]\n",
    "\n",
    "print(d)"
   ]
  },
  {
   "cell_type": "code",
   "execution_count": 7,
   "metadata": {},
   "outputs": [
    {
     "name": "stdout",
     "output_type": "stream",
     "text": [
      "x1 = 1e-05\n",
      "x2 = 1e-05\n"
     ]
    }
   ],
   "source": [
    "x1 = 10 ** (-5)\n",
    "x2 = 1e-5\n",
    "\n",
    "print(\"x1 =\", x1)\n",
    "print(\"x2 =\", x2)"
   ]
  },
  {
   "cell_type": "code",
   "execution_count": 8,
   "metadata": {},
   "outputs": [
    {
     "name": "stdout",
     "output_type": "stream",
     "text": [
      "1.157184951483814\n"
     ]
    }
   ],
   "source": [
    "from math import exp\n",
    "from scipy.special import lambertw\n",
    "\n",
    "t = lambertw(1/(2 * exp(1)))\n",
    "x = t.real + 1\n",
    "print(x)\n"
   ]
  },
  {
   "cell_type": "code",
   "execution_count": 9,
   "metadata": {},
   "outputs": [
    {
     "name": "stdout",
     "output_type": "stream",
     "text": [
      "[10  9  1  8  7]\n",
      "[10  9  1  8]\n",
      "[0 1 0 0 0 0 0 1 1 1 1]\n"
     ]
    }
   ],
   "source": [
    "import numpy as np \n",
    "arr = np.array([5, -1, 2, 4, 2, 3, 7, 0, -1, -4, -3])\n",
    "k = 5 \n",
    "\n",
    "idx = np.argpartition(arr, k)[:k]\n",
    "print(idx)\n",
    "\n",
    "\n",
    "print(idx[np.where(arr[idx] < 0)])\n",
    "\n",
    "decs = np.zeros_like(arr)\n",
    "decs[idx] = 1\n",
    "print(decs)"
   ]
  },
  {
   "cell_type": "code",
   "execution_count": 3,
   "metadata": {},
   "outputs": [
    {
     "name": "stdout",
     "output_type": "stream",
     "text": [
      "1.157184951483814\n",
      "2.3404240526760884\n",
      "t3 = (-0.23196095298653444+0j)\n",
      "t4 = (-2.6783469900166605+0j)\n",
      "(3.3110704070010053+0j)\n"
     ]
    }
   ],
   "source": [
    "from scipy.special import lambertw\n",
    "import numpy as np \n",
    "\n",
    "tmp = lambertw(1 / (2 * np.exp(1))).real\n",
    "\n",
    "t = 1 + tmp \n",
    "print(t)\n",
    "\n",
    "t2 = 2 * np.exp(tmp)\n",
    "print(t2)\n",
    "\n",
    "t3 = lambertw(-1/(2 * np.exp(1)))\n",
    "print(f\"t3 = {t3}\")\n",
    "\n",
    "t4 = lambertw(-1/(2 * np.exp(1)), k=-1)\n",
    "print(f\"t4 = {t4}\")\n",
    "\n",
    "\n",
    "t4 = (2 * np.exp(t3 + 1) - 1)\n",
    "print(t4)"
   ]
  },
  {
   "cell_type": "code",
   "execution_count": 2,
   "metadata": {},
   "outputs": [
    {
     "name": "stdout",
     "output_type": "stream",
     "text": [
      "[1 2 3 4 5 6 7 8 9]\n",
      "eta = 0.1\tx = 96.515\th_uav = 2.797e-13\t h_bs = 4.538e-13\n",
      "eta = 0.2\tx = 49.287\th_uav = 5.478e-13\t h_bs = 8.887e-13\n",
      "eta = 0.3\tx = 31.126\th_uav = 8.675e-13\t h_bs = 1.407e-12\n",
      "eta = 0.4\tx = 21.138\th_uav = 1.277e-12\t h_bs = 2.072e-12\n",
      "eta = 0.5\tx = 14.690\th_uav = 1.838e-12\t h_bs = 2.982e-12\n",
      "eta = 0.6\tx = 10.123\th_uav = 2.667e-12\t h_bs = 4.327e-12\n",
      "eta = 0.7\tx = 6.689\th_uav = 4.037e-12\t h_bs = 6.548e-12\n",
      "eta = 0.8\tx = 3.994\th_uav = 6.761e-12\t h_bs = 1.097e-11\n",
      "eta = 0.9\tx = 1.811\th_uav = 1.491e-11\t h_bs = 2.418e-11\n"
     ]
    }
   ],
   "source": [
    "import math\n",
    "import numpy as np \n",
    "\n",
    "idx = np.array([i for i in range(1, 10, 1)], dtype=int)\n",
    "print(idx)\n",
    "# h_uav = np.zeros_like(idx)\n",
    "# h_bs = np.zeros_like(idx)\n",
    "v = 23 \n",
    "\n",
    "for i in idx:\n",
    "    eta = 0.1 * i\n",
    "    x = ((1 - eta)/ (eta * math.log(1 / eta)) - 1) * v / math.log(2)\n",
    "    h_uav = 2.7 * 1e-11 / x \n",
    "    h_bs = 4.38 * 1e-11 / x \n",
    "    print(\"eta = {:.1f}\\tx = {:.3f}\\th_uav = {:.3e}\\t h_bs = {:.3e}\".format(eta, x, h_uav, h_bs))"
   ]
  },
  {
   "cell_type": "code",
   "execution_count": 21,
   "metadata": {},
   "outputs": [
    {
     "name": "stdout",
     "output_type": "stream",
     "text": [
      "[8 2 8 7 3]\n",
      "[5 0 4 5 3]\n",
      "[5 0 4 5 3]\n"
     ]
    }
   ],
   "source": [
    "import numpy as np \n",
    "\n",
    "uav_gains = np.random.randint(0, 10, 5)\n",
    "bs_gains = np.random.randint(0, 10, 5)\n",
    "\n",
    "print(uav_gains)\n",
    "print(bs_gains)\n",
    "decs = 0\n",
    "\n",
    "gains = decs * uav_gains + (1 - decs) * bs_gains\n",
    "print(gains)"
   ]
  },
  {
   "cell_type": "code",
   "execution_count": 19,
   "metadata": {},
   "outputs": [],
   "source": [
    "import numpy as np \n",
    "\n",
    "uav_gains = np.random.randint(0, 100, 1000)\n",
    "bs_gains = np.random.randint(0, 100, 1000)\n",
    "\n",
    "decs = np.random.randint(0, 2, 1000, dtype=int)\n",
    "\n",
    "gains = np.array([uav_gains[i] if decs[i] == 1 else bs_gains[i] for i in range(1000)]) # (N, )\n",
    "print(gains)"
   ]
  },
  {
   "cell_type": "code",
   "execution_count": 5,
   "metadata": {},
   "outputs": [
    {
     "name": "stdout",
     "output_type": "stream",
     "text": [
      "[ 0.1147015 -0.1147015 -1.311791 ]\n",
      "[ 0.0051585  -0.0051585  -1.42391034]\n",
      "[-1.14020087e-05  1.14020087e-05 -1.42413796e+00]\n"
     ]
    }
   ],
   "source": [
    "import numpy as np \n",
    "\n",
    "inv_hess_x = np.array([[ 0.1147015,  -0.1147015,   0.688209  ],\n",
    " [-0.1147015,   0.1147015,   0.311791  ],\n",
    " [ 0.688209,    0.311791,   -1.87074601]])\n",
    "\n",
    "grad_x = np.array([-1., -2., 0])\n",
    "\n",
    "rs = np.dot(inv_hess_x, grad_x)\n",
    "print(rs)\n",
    "\n",
    "inv_hess_x = np.array([[ 0.11982215, -0.11982215,  0.465644  ],\n",
    " [-0.11982215,  0.11982215,  0.534356  ],\n",
    " [ 0.465644,    0.534356,   -2.07657488]])\n",
    "\n",
    "grad_x = np.array([-1.40090561, -1.44395693, 0])\n",
    "\n",
    "rs = np.dot(inv_hess_x, grad_x)\n",
    "print(rs)\n",
    "\n",
    "inv_hess_x = np.array([[0.11928035, -0.11928035,  0.45505638],\n",
    " [-0.11928035,  0.11928035,  0.54494362],\n",
    " [ 0.45505638,  0.54494362, -2.07896841]]) \n",
    "grad_x = np.array([-1.42419005, -1.42409446, 0])\n",
    "\n",
    "rs = np.dot(inv_hess_x, grad_x)\n",
    "print(rs)"
   ]
  },
  {
   "cell_type": "code",
   "execution_count": 6,
   "metadata": {},
   "outputs": [
    {
     "name": "stdout",
     "output_type": "stream",
     "text": [
      "allclose\n"
     ]
    }
   ],
   "source": [
    "import numpy as np \n",
    "\n",
    "a = np.array([1e-5, 1e-5])\n",
    "# b = np.array([1.00000495, 1.000000495])\n",
    "\n",
    "if np.allclose(a, 0, atol=1e-5): \n",
    "    print(\"allclose\")\n",
    "else: \n",
    "    print(\"notclose\")"
   ]
  },
  {
   "cell_type": "code",
   "execution_count": 6,
   "metadata": {},
   "outputs": [
    {
     "name": "stdout",
     "output_type": "stream",
     "text": [
      "a.shape = (2,)\n",
      "b = [[0 1]]\tb.shape = (1, 2)\n",
      "c = [1]\tc.shape = (1,)\n"
     ]
    }
   ],
   "source": [
    "a = np.array([0, 1])\n",
    "print(f\"a.shape = {a.shape}\")\n",
    "\n",
    "b = a[np.newaxis]\n",
    "print(f\"b = {b}\\tb.shape = {b.shape}\")\n",
    "\n",
    "c = np.array([1]) \n",
    "# c = c[np.newaxis]\n",
    "print(f\"c = {c}\\tc.shape = {c.shape}\")"
   ]
  },
  {
   "cell_type": "code",
   "execution_count": null,
   "metadata": {},
   "outputs": [],
   "source": []
  }
 ],
 "metadata": {
  "kernelspec": {
   "display_name": "torch-gpu",
   "language": "python",
   "name": "python3"
  },
  "language_info": {
   "codemirror_mode": {
    "name": "ipython",
    "version": 3
   },
   "file_extension": ".py",
   "mimetype": "text/x-python",
   "name": "python",
   "nbconvert_exporter": "python",
   "pygments_lexer": "ipython3",
   "version": "3.8.15"
  },
  "orig_nbformat": 4,
  "vscode": {
   "interpreter": {
    "hash": "c0f27780933b868be0d4b886deae0378dd92430bbe3edc59532a3cc155579b80"
   }
  }
 },
 "nbformat": 4,
 "nbformat_minor": 2
}
