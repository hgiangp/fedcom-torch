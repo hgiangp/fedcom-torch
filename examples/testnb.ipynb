{
 "cells": [
  {
   "cell_type": "code",
   "execution_count": 47,
   "metadata": {},
   "outputs": [
    {
     "name": "stdout",
     "output_type": "stream",
     "text": [
      "{'weight': tensor([[ 0.1121, -0.1636],\n",
      "        [-0.6491, -0.1822],\n",
      "        [ 0.5718,  0.0618]]), 'bias': tensor([0.6658, 0.5949, 0.5795])}\n",
      "9\n"
     ]
    }
   ],
   "source": [
    "import torch.nn as nn \n",
    "\n",
    "model = nn.Linear(2, 3)\n",
    "params = {k: v.data for k, v in zip(model.state_dict(), model.parameters())}\n",
    "\n",
    "print(params)\n",
    "# Calculate the number of parameters \n",
    "num_params = sum(param.numel() for param in model.parameters())\n",
    "print(num_params) # 9 "
   ]
  },
  {
   "cell_type": "code",
   "execution_count": 64,
   "metadata": {},
   "outputs": [
    {
     "name": "stdout",
     "output_type": "stream",
     "text": [
      "[-0.00968184 -0.0276112   0.07457525 -0.07057706  0.40445401  0.04708995\n",
      " -0.11704029 -0.32865003 -0.05915562]\n"
     ]
    }
   ],
   "source": [
    "import numpy as np \n",
    "\n",
    "model1 = nn.Linear(2, 3)\n",
    "model2 = nn.Linear(2, 3)\n",
    "model3 = nn.Linear(2, 3)\n",
    "\n",
    "# Copy model.parameters() to flatten np.array \n",
    "def preprocess(model): \n",
    "    params = np.array([])\n",
    "    for v in model.parameters(): \n",
    "        params = np.append(params, v.data.numpy())\n",
    "    return params \n",
    "\n",
    "params1 = preprocess(model1)\n",
    "params2 = preprocess(model2)\n",
    "params3 = preprocess(model3)\n",
    "\n",
    "# Avarage (aggregate) the model parameters \n",
    "params = np.mean(np.array([params1, params2, params3]), axis=0)\n",
    "print(params)\n",
    "\n",
    "# Convert the data back to dictionary of parameters \n",
    "params_dict = {}\n",
    "\n",
    "# load_state_dict ()\n",
    "# https://pytorch.org/tutorials/beginner/saving_loading_models.html\n"
   ]
  },
  {
   "cell_type": "code",
   "execution_count": 1,
   "metadata": {},
   "outputs": [
    {
     "name": "stdout",
     "output_type": "stream",
     "text": [
      "{'a': 1, 'b': 2, 'c': 3}\n"
     ]
    }
   ],
   "source": [
    "c = {'a': 1, 'b': 2, 'c': 3}\n",
    "d = {}\n",
    "\n",
    "for k in c.keys(): \n",
    "    d[k] = c[k]\n",
    "\n",
    "print(d)"
   ]
  },
  {
   "cell_type": "code",
   "execution_count": 1,
   "metadata": {},
   "outputs": [
    {
     "name": "stdout",
     "output_type": "stream",
     "text": [
      "x1 = 1e-05\n",
      "x2 = 1e-05\n"
     ]
    }
   ],
   "source": [
    "x1 = 10 ** (-5)\n",
    "x2 = 1e-5\n",
    "\n",
    "print(\"x1 =\", x1)\n",
    "print(\"x2 =\", x2)"
   ]
  },
  {
   "cell_type": "code",
   "execution_count": 12,
   "metadata": {},
   "outputs": [
    {
     "name": "stdout",
     "output_type": "stream",
     "text": [
      "1.157184951483814\n"
     ]
    }
   ],
   "source": [
    "from math import exp\n",
    "from scipy.special import lambertw\n",
    "\n",
    "t = lambertw(1/(2 * exp(1)))\n",
    "x = t.real + 1\n",
    "print(x)\n"
   ]
  },
  {
   "cell_type": "code",
   "execution_count": 7,
   "metadata": {},
   "outputs": [
    {
     "name": "stdout",
     "output_type": "stream",
     "text": [
      "[10  9  1  8  7]\n",
      "[10  9  1  8]\n",
      "[0 1 0 0 0 0 0 1 1 1 1]\n"
     ]
    }
   ],
   "source": [
    "import numpy as np \n",
    "arr = np.array([5, -1, 2, 4, 2, 3, 7, 0, -1, -4, -3])\n",
    "k = 5 \n",
    "\n",
    "idx = np.argpartition(arr, k)[:k]\n",
    "print(idx)\n",
    "\n",
    "\n",
    "print(idx[np.where(arr[idx] < 0)])\n",
    "\n",
    "decs = np.zeros_like(arr)\n",
    "decs[idx] = 1\n",
    "print(decs)"
   ]
  },
  {
   "cell_type": "code",
   "execution_count": 2,
   "metadata": {},
   "outputs": [
    {
     "name": "stdout",
     "output_type": "stream",
     "text": [
      "1.157184951483814\n",
      "2.3404240526760884\n",
      "-0.23196095298653444\n",
      "3.3110704070010053\n"
     ]
    }
   ],
   "source": [
    "from scipy.special import lambertw\n",
    "import numpy as np \n",
    "\n",
    "tmp = lambertw(1 / (2 * np.exp(1))).real\n",
    "\n",
    "t = 1 + tmp \n",
    "print(t)\n",
    "\n",
    "t2 = 2 * np.exp(tmp)\n",
    "print(t2)\n",
    "\n",
    "t3 = lambertw(-1/(2 * np.exp(1))).real\n",
    "print(t3.real)\n",
    "\n",
    "t4 = (2 * np.exp(t3 + 1) - 1)\n",
    "print(t4)"
   ]
  },
  {
   "cell_type": "code",
   "execution_count": 8,
   "metadata": {},
   "outputs": [
    {
     "name": "stdout",
     "output_type": "stream",
     "text": [
      "[1 2 3 4 5 6 7 8 9]\n",
      "eta = 0.1\tx = 2.909\th_uav = 9.283e-12\t h_bs = 1.506e-11\n",
      "eta = 0.2\tx = 1.485\th_uav = 1.818e-11\t h_bs = 2.949e-11\n",
      "eta = 0.3\tx = 0.938\th_uav = 2.878e-11\t h_bs = 4.669e-11\n",
      "eta = 0.4\tx = 0.637\th_uav = 4.238e-11\t h_bs = 6.876e-11\n",
      "eta = 0.5\tx = 0.443\th_uav = 6.099e-11\t h_bs = 9.894e-11\n",
      "eta = 0.6\tx = 0.305\th_uav = 8.850e-11\t h_bs = 1.436e-10\n",
      "eta = 0.7\tx = 0.202\th_uav = 1.339e-10\t h_bs = 2.173e-10\n",
      "eta = 0.8\tx = 0.120\th_uav = 2.243e-10\t h_bs = 3.639e-10\n",
      "eta = 0.9\tx = 0.055\th_uav = 4.947e-10\t h_bs = 8.025e-10\n"
     ]
    }
   ],
   "source": [
    "import math\n",
    "\n",
    "idx = np.array([i for i in range(1, 10, 1)], dtype=int)\n",
    "print(idx)\n",
    "# h_uav = np.zeros_like(idx)\n",
    "# h_bs = np.zeros_like(idx)\n",
    "\n",
    "for i in idx:\n",
    "    eta = 0.1 * i\n",
    "    x = (1 - eta)/ (eta * math.log(1 / eta)) - 1\n",
    "    h_uav = 2.7 * 1e-11 / x \n",
    "    h_bs = 4.38 * 1e-11 / x \n",
    "    print(\"eta = {:.1f}\\tx = {:.3f}\\th_uav = {:.3e}\\t h_bs = {:.3e}\".format(eta, x, h_uav, h_bs))\n"
   ]
  },
  {
   "cell_type": "code",
   "execution_count": null,
   "metadata": {},
   "outputs": [],
   "source": []
  }
 ],
 "metadata": {
  "kernelspec": {
   "display_name": "torch-gpu",
   "language": "python",
   "name": "python3"
  },
  "language_info": {
   "codemirror_mode": {
    "name": "ipython",
    "version": 3
   },
   "file_extension": ".py",
   "mimetype": "text/x-python",
   "name": "python",
   "nbconvert_exporter": "python",
   "pygments_lexer": "ipython3",
   "version": "3.8.15"
  },
  "orig_nbformat": 4,
  "vscode": {
   "interpreter": {
    "hash": "c0f27780933b868be0d4b886deae0378dd92430bbe3edc59532a3cc155579b80"
   }
  }
 },
 "nbformat": 4,
 "nbformat_minor": 2
}
