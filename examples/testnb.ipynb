{
 "cells": [
  {
   "cell_type": "code",
   "execution_count": 4,
   "metadata": {},
   "outputs": [
    {
     "name": "stdout",
     "output_type": "stream",
     "text": [
      "{'weight': tensor([[-0.0754, -0.0753],\n",
      "        [-0.6765,  0.5025],\n",
      "        [-0.2202,  0.6343]]), 'bias': tensor([-0.2950, -0.1803, -0.6243])}\n",
      "9\n"
     ]
    }
   ],
   "source": [
    "import torch.nn as nn \n",
    "\n",
    "model = nn.Linear(2, 3)\n",
    "params = {k: v.data for k, v in zip(model.state_dict(), model.parameters())}\n",
    "\n",
    "print(params)\n",
    "# Calculate the number of parameters \n",
    "num_params = sum(param.numel() for param in model.parameters())\n",
    "print(num_params) # 9 "
   ]
  },
  {
   "cell_type": "code",
   "execution_count": 5,
   "metadata": {},
   "outputs": [
    {
     "name": "stdout",
     "output_type": "stream",
     "text": [
      "[-0.01657281 -0.01304539 -0.41262166 -0.12366266  0.03107857 -0.12102356\n",
      " -0.0534808  -0.03138488 -0.1824799 ]\n"
     ]
    }
   ],
   "source": [
    "import numpy as np \n",
    "\n",
    "model1 = nn.Linear(2, 3)\n",
    "model2 = nn.Linear(2, 3)\n",
    "model3 = nn.Linear(2, 3)\n",
    "\n",
    "# Copy model.parameters() to flatten np.array \n",
    "def preprocess(model): \n",
    "    params = np.array([])\n",
    "    for v in model.parameters(): \n",
    "        params = np.append(params, v.data.numpy())\n",
    "    return params \n",
    "\n",
    "params1 = preprocess(model1)\n",
    "params2 = preprocess(model2)\n",
    "params3 = preprocess(model3)\n",
    "\n",
    "# Avarage (aggregate) the model parameters \n",
    "params = np.mean(np.array([params1, params2, params3]), axis=0)\n",
    "print(params)\n",
    "\n",
    "# Convert the data back to dictionary of parameters \n",
    "params_dict = {}\n",
    "\n",
    "# load_state_dict ()\n",
    "# https://pytorch.org/tutorials/beginner/saving_loading_models.html\n"
   ]
  },
  {
   "cell_type": "code",
   "execution_count": 6,
   "metadata": {},
   "outputs": [
    {
     "name": "stdout",
     "output_type": "stream",
     "text": [
      "{'a': 1, 'b': 2, 'c': 3}\n"
     ]
    }
   ],
   "source": [
    "c = {'a': 1, 'b': 2, 'c': 3}\n",
    "d = {}\n",
    "\n",
    "for k in c.keys(): \n",
    "    d[k] = c[k]\n",
    "\n",
    "print(d)"
   ]
  },
  {
   "cell_type": "code",
   "execution_count": 7,
   "metadata": {},
   "outputs": [
    {
     "name": "stdout",
     "output_type": "stream",
     "text": [
      "x1 = 1e-05\n",
      "x2 = 1e-05\n"
     ]
    }
   ],
   "source": [
    "x1 = 10 ** (-5)\n",
    "x2 = 1e-5\n",
    "\n",
    "print(\"x1 =\", x1)\n",
    "print(\"x2 =\", x2)"
   ]
  },
  {
   "cell_type": "code",
   "execution_count": 8,
   "metadata": {},
   "outputs": [
    {
     "name": "stdout",
     "output_type": "stream",
     "text": [
      "1.157184951483814\n"
     ]
    }
   ],
   "source": [
    "from math import exp\n",
    "from scipy.special import lambertw\n",
    "\n",
    "t = lambertw(1/(2 * exp(1)))\n",
    "x = t.real + 1\n",
    "print(x)\n"
   ]
  },
  {
   "cell_type": "code",
   "execution_count": 9,
   "metadata": {},
   "outputs": [
    {
     "name": "stdout",
     "output_type": "stream",
     "text": [
      "[10  9  1  8  7]\n",
      "[10  9  1  8]\n",
      "[0 1 0 0 0 0 0 1 1 1 1]\n"
     ]
    }
   ],
   "source": [
    "import numpy as np \n",
    "arr = np.array([5, -1, 2, 4, 2, 3, 7, 0, -1, -4, -3])\n",
    "k = 5 \n",
    "\n",
    "idx = np.argpartition(arr, k)[:k]\n",
    "print(idx)\n",
    "\n",
    "\n",
    "print(idx[np.where(arr[idx] < 0)])\n",
    "\n",
    "decs = np.zeros_like(arr)\n",
    "decs[idx] = 1\n",
    "print(decs)"
   ]
  },
  {
   "cell_type": "code",
   "execution_count": 3,
   "metadata": {},
   "outputs": [
    {
     "name": "stdout",
     "output_type": "stream",
     "text": [
      "1.157184951483814\n",
      "2.3404240526760884\n",
      "t3 = (-0.23196095298653444+0j)\n",
      "t4 = (-2.6783469900166605+0j)\n",
      "(3.3110704070010053+0j)\n"
     ]
    }
   ],
   "source": [
    "from scipy.special import lambertw\n",
    "import numpy as np \n",
    "\n",
    "tmp = lambertw(1 / (2 * np.exp(1))).real\n",
    "\n",
    "t = 1 + tmp \n",
    "print(t)\n",
    "\n",
    "t2 = 2 * np.exp(tmp)\n",
    "print(t2)\n",
    "\n",
    "t3 = lambertw(-1/(2 * np.exp(1)))\n",
    "print(f\"t3 = {t3}\")\n",
    "\n",
    "t4 = lambertw(-1/(2 * np.exp(1)), k=-1)\n",
    "print(f\"t4 = {t4}\")\n",
    "\n",
    "\n",
    "t4 = (2 * np.exp(t3 + 1) - 1)\n",
    "print(t4)"
   ]
  },
  {
   "cell_type": "code",
   "execution_count": 2,
   "metadata": {},
   "outputs": [
    {
     "name": "stdout",
     "output_type": "stream",
     "text": [
      "[1 2 3 4 5 6 7 8 9]\n",
      "eta = 0.1\tx = 96.515\th_uav = 2.797e-13\t h_bs = 4.538e-13\n",
      "eta = 0.2\tx = 49.287\th_uav = 5.478e-13\t h_bs = 8.887e-13\n",
      "eta = 0.3\tx = 31.126\th_uav = 8.675e-13\t h_bs = 1.407e-12\n",
      "eta = 0.4\tx = 21.138\th_uav = 1.277e-12\t h_bs = 2.072e-12\n",
      "eta = 0.5\tx = 14.690\th_uav = 1.838e-12\t h_bs = 2.982e-12\n",
      "eta = 0.6\tx = 10.123\th_uav = 2.667e-12\t h_bs = 4.327e-12\n",
      "eta = 0.7\tx = 6.689\th_uav = 4.037e-12\t h_bs = 6.548e-12\n",
      "eta = 0.8\tx = 3.994\th_uav = 6.761e-12\t h_bs = 1.097e-11\n",
      "eta = 0.9\tx = 1.811\th_uav = 1.491e-11\t h_bs = 2.418e-11\n"
     ]
    }
   ],
   "source": [
    "import math\n",
    "import numpy as np \n",
    "\n",
    "idx = np.array([i for i in range(1, 10, 1)], dtype=int)\n",
    "print(idx)\n",
    "# h_uav = np.zeros_like(idx)\n",
    "# h_bs = np.zeros_like(idx)\n",
    "v = 23 \n",
    "\n",
    "for i in idx:\n",
    "    eta = 0.1 * i\n",
    "    x = ((1 - eta)/ (eta * math.log(1 / eta)) - 1) * v / math.log(2)\n",
    "    h_uav = 2.7 * 1e-11 / x \n",
    "    h_bs = 4.38 * 1e-11 / x \n",
    "    print(\"eta = {:.1f}\\tx = {:.3f}\\th_uav = {:.3e}\\t h_bs = {:.3e}\".format(eta, x, h_uav, h_bs))"
   ]
  },
  {
   "cell_type": "code",
   "execution_count": 21,
   "metadata": {},
   "outputs": [
    {
     "name": "stdout",
     "output_type": "stream",
     "text": [
      "[8 2 8 7 3]\n",
      "[5 0 4 5 3]\n",
      "[5 0 4 5 3]\n"
     ]
    }
   ],
   "source": [
    "import numpy as np \n",
    "\n",
    "uav_gains = np.random.randint(0, 10, 5)\n",
    "bs_gains = np.random.randint(0, 10, 5)\n",
    "\n",
    "print(uav_gains)\n",
    "print(bs_gains)\n",
    "decs = 0\n",
    "\n",
    "gains = decs * uav_gains + (1 - decs) * bs_gains\n",
    "print(gains)"
   ]
  },
  {
   "cell_type": "code",
   "execution_count": 19,
   "metadata": {},
   "outputs": [],
   "source": [
    "import numpy as np \n",
    "\n",
    "uav_gains = np.random.randint(0, 100, 1000)\n",
    "bs_gains = np.random.randint(0, 100, 1000)\n",
    "\n",
    "decs = np.random.randint(0, 2, 1000, dtype=int)\n",
    "\n",
    "gains = np.array([uav_gains[i] if decs[i] == 1 else bs_gains[i] for i in range(1000)]) # (N, )\n",
    "print(gains)"
   ]
  },
  {
   "cell_type": "code",
   "execution_count": 5,
   "metadata": {},
   "outputs": [
    {
     "name": "stdout",
     "output_type": "stream",
     "text": [
      "[ 0.1147015 -0.1147015 -1.311791 ]\n",
      "[ 0.0051585  -0.0051585  -1.42391034]\n",
      "[-1.14020087e-05  1.14020087e-05 -1.42413796e+00]\n"
     ]
    }
   ],
   "source": [
    "import numpy as np \n",
    "\n",
    "inv_hess_x = np.array([[ 0.1147015,  -0.1147015,   0.688209  ],\n",
    " [-0.1147015,   0.1147015,   0.311791  ],\n",
    " [ 0.688209,    0.311791,   -1.87074601]])\n",
    "\n",
    "grad_x = np.array([-1., -2., 0])\n",
    "\n",
    "rs = np.dot(inv_hess_x, grad_x)\n",
    "print(rs)\n",
    "\n",
    "inv_hess_x = np.array([[ 0.11982215, -0.11982215,  0.465644  ],\n",
    " [-0.11982215,  0.11982215,  0.534356  ],\n",
    " [ 0.465644,    0.534356,   -2.07657488]])\n",
    "\n",
    "grad_x = np.array([-1.40090561, -1.44395693, 0])\n",
    "\n",
    "rs = np.dot(inv_hess_x, grad_x)\n",
    "print(rs)\n",
    "\n",
    "inv_hess_x = np.array([[0.11928035, -0.11928035,  0.45505638],\n",
    " [-0.11928035,  0.11928035,  0.54494362],\n",
    " [ 0.45505638,  0.54494362, -2.07896841]]) \n",
    "grad_x = np.array([-1.42419005, -1.42409446, 0])\n",
    "\n",
    "rs = np.dot(inv_hess_x, grad_x)\n",
    "print(rs)"
   ]
  },
  {
   "cell_type": "code",
   "execution_count": 6,
   "metadata": {},
   "outputs": [
    {
     "name": "stdout",
     "output_type": "stream",
     "text": [
      "allclose\n"
     ]
    }
   ],
   "source": [
    "import numpy as np \n",
    "\n",
    "a = np.array([1e-5, 1e-5])\n",
    "# b = np.array([1.00000495, 1.000000495])\n",
    "\n",
    "if np.allclose(a, 0, atol=1e-5): \n",
    "    print(\"allclose\")\n",
    "else: \n",
    "    print(\"notclose\")"
   ]
  },
  {
   "cell_type": "code",
   "execution_count": 6,
   "metadata": {},
   "outputs": [
    {
     "name": "stdout",
     "output_type": "stream",
     "text": [
      "a.shape = (2,)\n",
      "b = [[0 1]]\tb.shape = (1, 2)\n",
      "c = [1]\tc.shape = (1,)\n"
     ]
    }
   ],
   "source": [
    "a = np.array([0, 1])\n",
    "print(f\"a.shape = {a.shape}\")\n",
    "\n",
    "b = a[np.newaxis]\n",
    "print(f\"b = {b}\\tb.shape = {b.shape}\")\n",
    "\n",
    "c = np.array([1]) \n",
    "# c = c[np.newaxis]\n",
    "print(f\"c = {c}\\tc.shape = {c.shape}\")"
   ]
  },
  {
   "cell_type": "code",
   "execution_count": 10,
   "metadata": {},
   "outputs": [
    {
     "data": {
      "text/plain": [
       "(0, 123)"
      ]
     },
     "execution_count": 10,
     "metadata": {},
     "output_type": "execute_result"
    }
   ],
   "source": [
    "class PropertyTest: \n",
    "    def __init__(self):\n",
    "        self._num_samples = 0 \n",
    "        pass\n",
    "\n",
    "    @property\n",
    "    def num_samples(self): \n",
    "        return self._num_samples \n",
    "    \n",
    "    def abc(self): \n",
    "        return (self._num_samples, 123)\n",
    "        \n",
    "\n",
    "test = PropertyTest()\n",
    "test.num_samples\n",
    "test.abc()"
   ]
  },
  {
   "cell_type": "code",
   "execution_count": 7,
   "metadata": {},
   "outputs": [
    {
     "name": "stdout",
     "output_type": "stream",
     "text": [
      "a_0 = 91.65029380654791\ta_alpha = -1.6486754902552114\n",
      "iter = 0\tan = 91.65029380654791\tn = 114.56286725818488\n",
      "iter = 1\tan = 90.00161831629269\tn = 112.50202289536585\n",
      "iter = 2\tan = 88.35294282603749\tn = 110.44117853254686\n",
      "iter = 3\tan = 86.70426733578228\tn = 108.38033416972785\n",
      "iter = 4\tan = 85.05559184552706\tn = 106.31948980690882\n",
      "iter = 5\tan = 83.40691635527185\tn = 104.25864544408981\n",
      "iter = 6\tan = 81.75824086501663\tn = 102.19780108127078\n",
      "iter = 7\tan = 80.10956537476143\tn = 100.13695671845178\n",
      "iter = 8\tan = 78.46088988450622\tn = 98.07611235563276\n",
      "iter = 9\tan = 76.812214394251\tn = 96.01526799281375\n"
     ]
    }
   ],
   "source": [
    "import math \n",
    "\n",
    "L_Lipschitz = 0.4185 # Lipschitz constant of the loss function\n",
    "gamma_cv = 0.45 # strongly convex constant of the loss function\n",
    "xi_factor = 0.1 # global gradient factor\n",
    "epsilon_0 = 5*1e-3 # global accuracy \n",
    "epsilon_alpha = 1.1 # alpha factor for decreasing the accuracy\n",
    "\n",
    "a_0 = 2 * (L_Lipschitz**2) / ((gamma_cv**2) * xi_factor) * math.log(1/epsilon_0) # a = 37.301878506503535\n",
    "a_alpha = 2 * (L_Lipschitz**2) / ((gamma_cv**2) * xi_factor) * math.log(1/epsilon_alpha) # negative \n",
    "\n",
    "print(f\"a_0 = {a_0}\\ta_alpha = {a_alpha}\")\n",
    "\n",
    "eta = 0.2 \n",
    "\n",
    "for iter in range(10): \n",
    "    an = a_0 + iter * a_alpha\n",
    "    n = an / (1 - eta)\n",
    "    print(f\"iter = {iter}\\tan = {an}\\tn = {n}\")"
   ]
  },
  {
   "cell_type": "code",
   "execution_count": 1,
   "metadata": {},
   "outputs": [
    {
     "name": "stdout",
     "output_type": "stream",
     "text": [
      "t = 1\tlr = 2.7458783624599876 kt = 1.0101010101010102 1 + kt = 0.5025125628140703\n",
      "t = 2\tlr = 1.6570692087115697 kt = 0.5050505050505051 1 + kt = 0.33557046979865773\n",
      "t = 3\tlr = 1.400319376534295 kt = 0.3367003367003367 1 + kt = 0.2518891687657431\n",
      "t = 4\tlr = 1.2872720026131113 kt = 0.25252525252525254 1 + kt = 0.20161290322580647\n",
      "t = 5\tlr = 1.2238727325632832 kt = 0.20202020202020202 1 + kt = 0.1680672268907563\n",
      "t = 6\tlr = 1.1833509101421669 kt = 0.16835016835016836 1 + kt = 0.1440922190201729\n",
      "t = 7\tlr = 1.1552307924324114 kt = 0.14430014430014432 1 + kt = 0.12610340479192939\n",
      "t = 8\tlr = 1.1345800996902384 kt = 0.12626262626262627 1 + kt = 0.11210762331838565\n",
      "t = 9\tlr = 1.1187740029938238 kt = 0.1122334455667789 1 + kt = 0.10090817356205853\n",
      "0.3715766910220457\n"
     ]
    }
   ],
   "source": [
    "import math \n",
    "\n",
    "lr0 = 1 \n",
    "k = 0.99\n",
    "\n",
    "for t in range(1, 10, 1): \n",
    "    lr = lr0 * math.exp(1/(k * t))\n",
    "    print(f\"t = {t}\\tlr = {lr} kt = {1/(k*t)} 1 + kt = {1/(1 + k*t)}\")\n",
    "\n",
    "print(math.exp(-k))"
   ]
  },
  {
   "cell_type": "code",
   "execution_count": 3,
   "metadata": {},
   "outputs": [
    {
     "name": "stdout",
     "output_type": "stream",
     "text": [
      "----\n",
      "eps0 = 0.001\ta = 5\talpha = 1.0725449423573252\n",
      "eps0 = 0.001\ta = 50\talpha = 1.0401169311848881\n",
      "eps0 = 0.001\ta = 100\talpha = 1.0305484932855355\n",
      "eps0 = 0.001\ta = 200\talpha = 1.0210680791468665\n",
      "eps0 = 0.001\ta = 500\talpha = 1.0086693692850832\n",
      "eps0 = 0.0005\ta = 5\talpha = 1.082437056297306\n",
      "eps0 = 0.0005\ta = 50\talpha = 1.0497099606122333\n",
      "eps0 = 0.0005\ta = 100\talpha = 1.0400532727252205\n",
      "eps0 = 0.0005\ta = 200\talpha = 1.0304854204446572\n",
      "eps0 = 0.0005\ta = 500\talpha = 1.0179723569126287\n",
      "eps0 = 0.0001\ta = 5\talpha = 1.1057591260941642\n",
      "eps0 = 0.0001\ta = 50\talpha = 1.0723268960039312\n",
      "eps0 = 0.0001\ta = 100\talpha = 1.0624621461814947\n",
      "eps0 = 0.0001\ta = 200\talpha = 1.0526881460077167\n",
      "eps0 = 0.0001\ta = 500\talpha = 1.0399054773846865\n"
     ]
    }
   ],
   "source": [
    "import math\n",
    "\n",
    "# alpha = 1.05\n",
    "# for eps0 in epss:  \n",
    "#     tmp1 = (eps0**(1/n))\n",
    "#     tmp2 = tmp1/eps0\n",
    "#     a = tmp2/ (alpha ** ((n-1)/2))\n",
    "#     print(f\"tmp1 = {tmp1}\\ttmp2 = {tmp2}\\ta = {a}\")\n",
    "print(\"----\")\n",
    "\n",
    "epss = [1e-3, 5*1e-4, 1e-4]\n",
    "n = 151 \n",
    "aarr = [5, 50, 100, 200, 500]\n",
    "for eps0 in epss:\n",
    "    for a in aarr:  \n",
    "        alpha = (1/a) ** (2/(n-1)) * (1/eps0) ** (2/n)\n",
    "        print(f\"eps0 = {eps0}\\ta = {a}\\talpha = {alpha}\")"
   ]
  },
  {
   "cell_type": "code",
   "execution_count": 20,
   "metadata": {},
   "outputs": [
    {
     "name": "stdout",
     "output_type": "stream",
     "text": [
      "xs = [ -23.35963903  -96.27181825   -1.19812029   20.71485799   50.69282164\n",
      "   -2.55338168   18.61423769 -132.25663011   10.19063667   -0.41933791]\n",
      "ys = [-14.89407989   7.13837887  45.29717038 -83.43264913  29.21601405\n",
      " 133.84483355 -50.61475011 -11.57404895 -91.07975347  20.68710754]\n",
      "dirs = [0 2 1 1 2 3 3 0 3 3]\n"
     ]
    }
   ],
   "source": [
    "import numpy as np \n",
    "# seed = 42\n",
    "rng = np.random.default_rng()\n",
    "\n",
    "def init_location():\n",
    "    width, height = 20, 100 \n",
    "    num_users = 10 \n",
    "    \n",
    "    dirs = rng.integers(low=0, high=4, size=num_users)\n",
    "    xs = np.zeros(num_users)\n",
    "    ys = np.zeros(num_users)\n",
    "\n",
    "    for i, dir in enumerate(dirs):\n",
    "        if dir == 0 or dir == 2:\n",
    "            xs[i] = rng.normal(loc=0, scale=height)\n",
    "            ys[i] = rng.normal(loc=0, scale=width)\n",
    "        if dir == 1 or dir == 3: \n",
    "            xs[i] = rng.normal(loc=0, scale=width)\n",
    "            ys[i] = rng.normal(loc=0, scale=height)\n",
    " \n",
    "    return xs, ys, dirs\n",
    "\n",
    "xs, ys, dirs = init_location()\n",
    "\n",
    "print(f\"xs = {xs}\")\n",
    "print(f\"ys = {ys}\")\n",
    "print(f\"dirs = {dirs}\")"
   ]
  },
  {
   "cell_type": "code",
   "execution_count": 20,
   "metadata": {},
   "outputs": [
    {
     "name": "stdout",
     "output_type": "stream",
     "text": [
      "`gtol` termination condition is satisfied.\n",
      "Number of iterations: 28, function evaluations: 12, CG iterations: 17, optimality: 3.44e-10, constraint violation: 1.11e-16, execution time: 0.016 s.\n"
     ]
    },
    {
     "data": {
      "text/plain": [
       " barrier_parameter: 1.0240000000000006e-08\n",
       " barrier_tolerance: 1.0240000000000006e-08\n",
       "          cg_niter: 17\n",
       "      cg_stop_cond: 1\n",
       "            constr: [array([0.80987281]), array([ 1.22637542, 14.99461564])]\n",
       "       constr_nfev: [0, 0]\n",
       "       constr_nhev: [0, 0]\n",
       "       constr_njev: [0, 0]\n",
       "    constr_penalty: 1.0\n",
       "  constr_violation: 1.1102230246251565e-16\n",
       "    execution_time: 0.016202926635742188\n",
       "               fun: 2.821137011210055e-05\n",
       "              grad: array([-2.05766079e-06, -3.03513432e-06])\n",
       "               jac: [array([[0.03482371, 0.05116276]]), array([[1., 0.],\n",
       "       [0., 1.]])]\n",
       "   lagrangian_grad: array([-3.43976233e-10,  2.34125973e-10])\n",
       "           message: '`gtol` termination condition is satisfied.'\n",
       "            method: 'tr_interior_point'\n",
       "              nfev: 12\n",
       "              nhev: 10\n",
       "               nit: 28\n",
       "             niter: 28\n",
       "              njev: 10\n",
       "        optimality: 3.4397623284561033e-10\n",
       "            status: 1\n",
       "           success: True\n",
       "         tr_radius: 111.24296298714803\n",
       "                 v: [array([5.93415259e-05]), array([-9.17553231e-09, -7.07583621e-10])]\n",
       "                 x: array([ 1.22637542, 14.99461564])"
      ]
     },
     "execution_count": 20,
     "metadata": {},
     "output_type": "execute_result"
    }
   ],
   "source": [
    "import numpy as np \n",
    "from scipy.optimize import Bounds \n",
    "from scipy.optimize import LinearConstraint\n",
    "from scipy.optimize import minimize \n",
    "\n",
    "a = 0.03482371435133165\t\n",
    "b = 9863.430506596913\t\n",
    "c = 0.05116275624731778\t\n",
    "kappa = 0.09999999999999999\n",
    "tau = 0.8098728122557564\t\n",
    "# taumin = 0.030631940230047387\t\n",
    "z_min = 0.14503226322827228\t\n",
    "t_min = 0.5\n",
    "\n",
    "bounds = Bounds([z_min, t_min], [np.inf, np.inf])\n",
    "linear_constraint = LinearConstraint([a, c], tau, tau)\n",
    "\n",
    "x0 = np.array([z_min, t_min]) + np.random.rand(2)\n",
    "\n",
    "def objective(x): \n",
    "    z, t = x[0], x[1]\n",
    "    f0 = a/b * z * (np.exp(1/z) - 1) + kappa * c / (t**2) # (1)\n",
    "    return f0 \n",
    "\n",
    "def grad_obj(x): \n",
    "    z, t = x[0], x[1]\n",
    "    grad = np.array([a/b * ((1 - 1/z) * np.exp(1/z) - 1), -2 * kappa * c / (t**3)])\n",
    "    # grad = grad[:, np.newaxis] # (2, 1)\n",
    "    return grad \n",
    "\n",
    "def hessian(x): \n",
    "    z, t = x[0], x[1]\n",
    "    hess = np.array([[a/b * np.exp(1/z) / (z**3), 0],\n",
    "                    [0, 6 * kappa * c / (t**4)]]) # (2, 2)\n",
    "    return hess\n",
    "\n",
    "res = minimize(objective, x0, method='trust-constr', jac=grad_obj, hess=hessian,\n",
    "               constraints=linear_constraint, options={'verbose': 1}, bounds=bounds)\n",
    "\n",
    "res"
   ]
  },
  {
   "cell_type": "code",
   "execution_count": 63,
   "metadata": {},
   "outputs": [
    {
     "name": "stdout",
     "output_type": "stream",
     "text": [
      "rho = 1.4\ti = 30\tn = 100\n",
      "eta = 0.7923059592313171\tgamma_cv are 2.2569648939844305 and 283.4573208203013\n",
      "rho = 1.4\ti = 20\tn = 100\n",
      "eta = 0.7923059592313171\tgamma_cv are 3.3991440465523146 and 282.3151416677334\n",
      "rho = 1.1\ti = 30\tn = 100\n",
      "eta = 0.8717807197295375\tgamma_cv are 1.3245768685607398 and 362.31178676780286\n",
      "rho = 1.05\ti = 30\tn = 100\n",
      "eta = 0.8831721020676158\tgamma_cv are 1.1986615349025511 and 379.7537194174784\n"
     ]
    }
   ],
   "source": [
    "import math\n",
    "def func(rho, i, n): \n",
    "    print(f\"rho = {rho}\\ti = {i}\\tn = {n}\")\n",
    "    epsilon_0 = 5*1e-3 \n",
    "    lr = 5*1e-3 \n",
    "    \n",
    "    eta = 1 - (2* rho**2 * math.log(1/epsilon_0))/n  \n",
    "    a = rho  \n",
    "    b = -2\n",
    "    c = 2/i * math.log2(n/(n - 2*(rho**2)*math.log(1/epsilon_0)))\n",
    "\n",
    "    # calculate the discriminant\n",
    "    d = (b**2) - (4*a*c)\n",
    "\n",
    "    # find two solutions\n",
    "    sol1 = (-b-math.sqrt(d))/(2*a)\n",
    "    sol2 = (-b+math.sqrt(d))/(2*a)\n",
    "    \n",
    "    # print('The solution are {0} and {1}'.format(sol1,sol2))\n",
    "    \n",
    "    gamma_cv1 = sol1/lr\n",
    "    gamma_cv2 = sol2/lr\n",
    "\n",
    "    print('eta = {0}\\tgamma_cv are {1} and {2}'.format(eta,gamma_cv1,gamma_cv2))\n",
    "\n",
    "func(rho=1.4, i=30, n=100)\n",
    "func(rho=1.4, i=20, n=100)\n",
    "func(rho=1.1, i=30, n=100)\n",
    "func(rho=1.05, i=30, n=100)"
   ]
  }
 ],
 "metadata": {
  "kernelspec": {
   "display_name": "torch-gpu",
   "language": "python",
   "name": "python3"
  },
  "language_info": {
   "codemirror_mode": {
    "name": "ipython",
    "version": 3
   },
   "file_extension": ".py",
   "mimetype": "text/x-python",
   "name": "python",
   "nbconvert_exporter": "python",
   "pygments_lexer": "ipython3",
   "version": "3.8.15"
  },
  "orig_nbformat": 4,
  "vscode": {
   "interpreter": {
    "hash": "c0f27780933b868be0d4b886deae0378dd92430bbe3edc59532a3cc155579b80"
   }
  }
 },
 "nbformat": 4,
 "nbformat_minor": 2
}
