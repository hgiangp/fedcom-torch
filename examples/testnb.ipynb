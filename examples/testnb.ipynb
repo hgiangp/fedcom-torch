{
 "cells": [
  {
   "cell_type": "code",
   "execution_count": 10,
   "metadata": {},
   "outputs": [
    {
     "name": "stdout",
     "output_type": "stream",
     "text": [
      "[2. 2. 2. 2. 2.]\n",
      "(5,)\n"
     ]
    }
   ],
   "source": [
    "import numpy as np \n",
    "\n",
    "x = np.ones(shape=5)*2\n",
    "print(x)\n",
    "print(x.shape)"
   ]
  },
  {
   "cell_type": "code",
   "execution_count": 7,
   "metadata": {},
   "outputs": [
    {
     "name": "stdout",
     "output_type": "stream",
     "text": [
      "[0 1 2 3 4]\n",
      "(5,)\n"
     ]
    }
   ],
   "source": [
    "j = np.array(range(5))\n",
    "print(j)\n",
    "print(j.shape)"
   ]
  },
  {
   "cell_type": "code",
   "execution_count": 11,
   "metadata": {},
   "outputs": [
    {
     "name": "stdout",
     "output_type": "stream",
     "text": [
      "[1.         0.43527528 0.26758052 0.18946457 0.14495593]\n",
      "(5,)\n",
      "[2.         0.87055056 0.53516104 0.37892914 0.28991187]\n",
      "(5,)\n"
     ]
    }
   ],
   "source": [
    "y = np.power((j+1), -1.2)\n",
    "print(y)\n",
    "print(y.shape)\n",
    "\n",
    "t = y*x\n",
    "print(t)\n",
    "print(t.shape)"
   ]
  },
  {
   "cell_type": "code",
   "execution_count": 19,
   "metadata": {},
   "outputs": [
    {
     "name": "stdout",
     "output_type": "stream",
     "text": [
      "[1.         0.43527528 0.26758052 0.18946457 0.14495593]\n",
      "(5,)\n"
     ]
    }
   ],
   "source": [
    "t = np.array([np.power((j+1), -1.2) for j in range(5)])\n",
    "\n",
    "print(t)\n",
    "\n",
    "print(t.shape)"
   ]
  },
  {
   "cell_type": "code",
   "execution_count": 23,
   "metadata": {},
   "outputs": [],
   "source": [
    "samples = 5 \n",
    "classes = 4 \n",
    "dimensions = 3 \n",
    "\n",
    "xx = np.ones((samples, dimensions))\n",
    "b = np.ones(classes)*2\n",
    "W = np.ones((dimensions, classes)) * 3 \n",
    "\n",
    "y = np.dot(xx, W) + b \n",
    "yy = np.argmax(y, axis=1)\n",
    "# print(y)\n",
    "\n",
    "# print(xx)\n",
    "# print(b)\n",
    "# print(W)"
   ]
  },
  {
   "cell_type": "code",
   "execution_count": 49,
   "metadata": {},
   "outputs": [
    {
     "name": "stdout",
     "output_type": "stream",
     "text": [
      "(6, 1)\n",
      "[[1. 1. 1.]\n",
      " [1. 1. 1.]\n",
      " [1. 1. 1.]\n",
      " [1. 1. 1.]\n",
      " [1. 1. 1.]\n",
      " [1. 1. 1.]]\n"
     ]
    }
   ],
   "source": [
    "users = 6 \n",
    "B = np.ones(shape=(users, 1)) \n",
    "\n",
    "#(users, dimensions)\n",
    "print(B.shape)\n",
    "# print(B)\n",
    "\n",
    "mean_y = np.tile(B, reps=dimensions)\n",
    "\n",
    "\n",
    "\n",
    "# print(mean_x)\n",
    "# print(mean_x.shape)"
   ]
  },
  {
   "cell_type": "code",
   "execution_count": 5,
   "metadata": {},
   "outputs": [
    {
     "name": "stdout",
     "output_type": "stream",
     "text": [
      "{'weight': tensor([[ 0.6056,  0.3842],\n",
      "        [ 0.3227,  0.5768],\n",
      "        [-0.3212, -0.1447]]), 'bias': tensor([-0.5840, -0.2665,  0.0425])}\n",
      "\n",
      "\n",
      "{'weight': tensor([[-2.8229, -2.4018],\n",
      "        [-2.8229, -2.4018],\n",
      "        [-2.8229, -2.4018]]), 'bias': tensor([-5.8902, -5.8902, -5.8902])}\n"
     ]
    }
   ],
   "source": [
    "import torch \n",
    "\n",
    "net = torch.nn.Linear(2, 3)\n",
    "x = torch.rand(4, 2).requires_grad_(True)\n",
    "\n",
    "loss = net(x).sum() ** 2 \n",
    "loss.backward()\n",
    "\n",
    "params_dict = {k: v.data for k, v in zip(net.state_dict(), net.parameters())}\n",
    "print(params_dict)\n",
    "print('\\n')\n",
    "grads_dict = {k: v.grad for k, v in zip(net.state_dict(), net.parameters())}\n",
    "\n",
    "print(grads_dict)"
   ]
  },
  {
   "cell_type": "code",
   "execution_count": 18,
   "metadata": {},
   "outputs": [
    {
     "name": "stdout",
     "output_type": "stream",
     "text": [
      "24\n"
     ]
    }
   ],
   "source": [
    "weight = params_dict['weight'].clone()\n",
    "size = weight.element_size() * weight.nelement()\n",
    "print(size)\n"
   ]
  },
  {
   "cell_type": "code",
   "execution_count": 19,
   "metadata": {},
   "outputs": [
    {
     "name": "stdout",
     "output_type": "stream",
     "text": [
      "weight \n",
      " tensor([[ 0.6056,  0.3842],\n",
      "        [ 0.3227,  0.5768],\n",
      "        [-0.3212, -0.1447]])\n",
      "bias \n",
      " tensor([-0.5840, -0.2665,  0.0425])\n"
     ]
    }
   ],
   "source": [
    "for key, val in params_dict.items(): \n",
    "    print(key, '\\n', val)"
   ]
  },
  {
   "cell_type": "code",
   "execution_count": 16,
   "metadata": {},
   "outputs": [
    {
     "name": "stdout",
     "output_type": "stream",
     "text": [
      "[0 1 1 0 0 1]\n",
      "[ 7  6  4 12 10  7]\n",
      "[1 3 5 4 6 1]\n",
      "[1 6 4 4 6 7]\n",
      "<class 'numpy.ndarray'>\n",
      "[0 2 2 0 0 2]\n",
      "<class 'numpy.ndarray'>\n"
     ]
    }
   ],
   "source": [
    "import numpy as np \n",
    "\n",
    "num_users = 6 \n",
    "\n",
    "decs = np.array([0, 1, 1, 0, 0, 1])\n",
    "shape = decs.shape \n",
    "\n",
    "print(decs)\n",
    "\n",
    "uav_gains = np.random.randint(low=0, high=15, size=shape)\n",
    "print(uav_gains)\n",
    "\n",
    "bs_gains = np.random.randint(low=0, high=7, size=shape)\n",
    "print(bs_gains)\n",
    "\n",
    "gains = np.array([uav_gains[i] if decs[i] == 1 else bs_gains[i] for i in range(num_users)]) \n",
    "print(gains)\n",
    "print(type(gains))\n",
    "\n",
    "delta_t = 2\n",
    "ti_penalty = decs * delta_t\n",
    "print(ti_penalty)\n",
    "print(type(ti_penalty))\n"
   ]
  },
  {
   "cell_type": "code",
   "execution_count": 1,
   "metadata": {},
   "outputs": [
    {
     "name": "stdout",
     "output_type": "stream",
     "text": [
      "[3. 3. 3. 3. 3. 3.]\n"
     ]
    }
   ],
   "source": [
    "import numpy as np \n",
    "\n",
    "f_max = 3\n",
    "num_users = 6 \n",
    "\n",
    "freqs = np.ones(num_users) * f_max\n",
    "print(freqs)"
   ]
  },
  {
   "cell_type": "code",
   "execution_count": 6,
   "metadata": {},
   "outputs": [
    {
     "name": "stdout",
     "output_type": "stream",
     "text": [
      "a = [4 4 5 4 6 5]\n",
      "b = [8 2 3 6 6 8]\n",
      "[ True False False  True False  True]\n"
     ]
    }
   ],
   "source": [
    "a = np.random.randint(3, 7, 6)\n",
    "b = np.random.randint(1, 10, 6)\n",
    "print(f\"a = {a}\\nb = {b}\")\n",
    "print(a < b)"
   ]
  },
  {
   "cell_type": "code",
   "execution_count": 7,
   "metadata": {},
   "outputs": [
    {
     "name": "stdout",
     "output_type": "stream",
     "text": [
      "[0 1 1 0 1 0]\n"
     ]
    }
   ],
   "source": [
    "decs = np.array([0 if a[i] < b[i] else 1 for i in range(num_users)])\n",
    "print(decs)"
   ]
  },
  {
   "cell_type": "code",
   "execution_count": null,
   "metadata": {},
   "outputs": [],
   "source": []
  }
 ],
 "metadata": {
  "kernelspec": {
   "display_name": "torch-gpu",
   "language": "python",
   "name": "python3"
  },
  "language_info": {
   "codemirror_mode": {
    "name": "ipython",
    "version": 3
   },
   "file_extension": ".py",
   "mimetype": "text/x-python",
   "name": "python",
   "nbconvert_exporter": "python",
   "pygments_lexer": "ipython3",
   "version": "3.8.15"
  },
  "orig_nbformat": 4,
  "vscode": {
   "interpreter": {
    "hash": "c0f27780933b868be0d4b886deae0378dd92430bbe3edc59532a3cc155579b80"
   }
  }
 },
 "nbformat": 4,
 "nbformat_minor": 2
}
