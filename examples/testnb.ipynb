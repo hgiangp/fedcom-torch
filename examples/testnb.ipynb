{
 "cells": [
  {
   "cell_type": "code",
   "execution_count": 47,
   "metadata": {},
   "outputs": [
    {
     "name": "stdout",
     "output_type": "stream",
     "text": [
      "{'weight': tensor([[ 0.1121, -0.1636],\n",
      "        [-0.6491, -0.1822],\n",
      "        [ 0.5718,  0.0618]]), 'bias': tensor([0.6658, 0.5949, 0.5795])}\n",
      "9\n"
     ]
    }
   ],
   "source": [
    "import torch.nn as nn \n",
    "\n",
    "model = nn.Linear(2, 3)\n",
    "params = {k: v.data for k, v in zip(model.state_dict(), model.parameters())}\n",
    "\n",
    "print(params)\n",
    "# Calculate the number of parameters \n",
    "num_params = sum(param.numel() for param in model.parameters())\n",
    "print(num_params) # 9 "
   ]
  },
  {
   "cell_type": "code",
   "execution_count": 64,
   "metadata": {},
   "outputs": [
    {
     "name": "stdout",
     "output_type": "stream",
     "text": [
      "[-0.00968184 -0.0276112   0.07457525 -0.07057706  0.40445401  0.04708995\n",
      " -0.11704029 -0.32865003 -0.05915562]\n"
     ]
    }
   ],
   "source": [
    "import numpy as np \n",
    "\n",
    "model1 = nn.Linear(2, 3)\n",
    "model2 = nn.Linear(2, 3)\n",
    "model3 = nn.Linear(2, 3)\n",
    "\n",
    "# Copy model.parameters() to flatten np.array \n",
    "def preprocess(model): \n",
    "    params = np.array([])\n",
    "    for v in model.parameters(): \n",
    "        params = np.append(params, v.data.numpy())\n",
    "    return params \n",
    "\n",
    "params1 = preprocess(model1)\n",
    "params2 = preprocess(model2)\n",
    "params3 = preprocess(model3)\n",
    "\n",
    "# Avarage (aggregate) the model parameters \n",
    "params = np.mean(np.array([params1, params2, params3]), axis=0)\n",
    "print(params)\n",
    "\n",
    "# Convert the data back to dictionary of parameters \n",
    "params_dict = {}\n",
    "\n",
    "# load_state_dict ()\n",
    "# https://pytorch.org/tutorials/beginner/saving_loading_models.html\n"
   ]
  },
  {
   "cell_type": "code",
   "execution_count": 1,
   "metadata": {},
   "outputs": [
    {
     "name": "stdout",
     "output_type": "stream",
     "text": [
      "{'a': 1, 'b': 2, 'c': 3}\n"
     ]
    }
   ],
   "source": [
    "c = {'a': 1, 'b': 2, 'c': 3}\n",
    "d = {}\n",
    "\n",
    "for k in c.keys(): \n",
    "    d[k] = c[k]\n",
    "\n",
    "print(d)"
   ]
  },
  {
   "cell_type": "code",
   "execution_count": 1,
   "metadata": {},
   "outputs": [
    {
     "name": "stdout",
     "output_type": "stream",
     "text": [
      "x1 = 1e-05\n",
      "x2 = 1e-05\n"
     ]
    }
   ],
   "source": [
    "x1 = 10 ** (-5)\n",
    "x2 = 1e-5\n",
    "\n",
    "print(\"x1 =\", x1)\n",
    "print(\"x2 =\", x2)"
   ]
  },
  {
   "cell_type": "code",
   "execution_count": 5,
   "metadata": {},
   "outputs": [
    {
     "name": "stdout",
     "output_type": "stream",
     "text": [
      "1.157184951483814\n"
     ]
    }
   ],
   "source": [
    "from math import exp\n",
    "from scipy.special import lambertw\n",
    "\n",
    "t = lambertw(1/(2 * exp(1)))\n",
    "x = t.real + 1\n",
    "print(x)\n"
   ]
  },
  {
   "cell_type": "code",
   "execution_count": null,
   "metadata": {},
   "outputs": [],
   "source": []
  }
 ],
 "metadata": {
  "kernelspec": {
   "display_name": "torch-gpu",
   "language": "python",
   "name": "python3"
  },
  "language_info": {
   "codemirror_mode": {
    "name": "ipython",
    "version": 3
   },
   "file_extension": ".py",
   "mimetype": "text/x-python",
   "name": "python",
   "nbconvert_exporter": "python",
   "pygments_lexer": "ipython3",
   "version": "3.8.15"
  },
  "orig_nbformat": 4,
  "vscode": {
   "interpreter": {
    "hash": "c0f27780933b868be0d4b886deae0378dd92430bbe3edc59532a3cc155579b80"
   }
  }
 },
 "nbformat": 4,
 "nbformat_minor": 2
}
